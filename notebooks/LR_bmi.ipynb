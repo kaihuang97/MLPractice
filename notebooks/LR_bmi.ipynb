{
  "nbformat": 4,
  "nbformat_minor": 0,
  "metadata": {
    "colab": {
      "name": "Multiclass Regression",
      "version": "0.3.2",
      "provenance": [],
      "collapsed_sections": []
    },
    "kernelspec": {
      "name": "python3",
      "display_name": "Python 3"
    }
  },
  "cells": [
    {
      "metadata": {
        "id": "-_yw6o3_ZXnW",
        "colab_type": "code",
        "outputId": "a16101ea-040d-49db-e3f3-f3f4a9786456",
        "colab": {
          "base_uri": "https://localhost:8080/",
          "height": 170
        }
      },
      "cell_type": "code",
      "source": [
        "import numpy as np         # linear algebra\n",
        "import sklearn as sk       # machine learning\n",
        "import pandas as pd        # reading in data files, data cleaning\n",
        "import matplotlib.pyplot as plt   # for plotting\n",
        "import seaborn as sns      # visualization tool\n",
        "\n",
        "file_id = '172V7yK-DjsxoaejDlOEl9S1R4A_GdP7U'\n",
        "link = 'https://drive.google.com/uc?export=download&id={FILE_ID}'\n",
        "csv_url = link.format(FILE_ID = file_id)\n",
        "\n",
        "data = pd.read_csv(csv_url)\n",
        "data.info()"
      ],
      "execution_count": 0,
      "outputs": [
        {
          "output_type": "stream",
          "text": [
            "<class 'pandas.core.frame.DataFrame'>\n",
            "RangeIndex: 500 entries, 0 to 499\n",
            "Data columns (total 4 columns):\n",
            "Gender    500 non-null object\n",
            "Height    500 non-null int64\n",
            "Weight    500 non-null int64\n",
            "Index     500 non-null int64\n",
            "dtypes: int64(3), object(1)\n",
            "memory usage: 15.7+ KB\n"
          ],
          "name": "stdout"
        }
      ]
    },
    {
      "metadata": {
        "id": "h6C-uylyZg5V",
        "colab_type": "code",
        "outputId": "dc01f743-616c-4ab8-cf3c-4187c884e4b5",
        "colab": {
          "base_uri": "https://localhost:8080/",
          "height": 204
        }
      },
      "cell_type": "code",
      "source": [
        "data.head()"
      ],
      "execution_count": 0,
      "outputs": [
        {
          "output_type": "execute_result",
          "data": {
            "text/html": [
              "<div>\n",
              "<style scoped>\n",
              "    .dataframe tbody tr th:only-of-type {\n",
              "        vertical-align: middle;\n",
              "    }\n",
              "\n",
              "    .dataframe tbody tr th {\n",
              "        vertical-align: top;\n",
              "    }\n",
              "\n",
              "    .dataframe thead th {\n",
              "        text-align: right;\n",
              "    }\n",
              "</style>\n",
              "<table border=\"1\" class=\"dataframe\">\n",
              "  <thead>\n",
              "    <tr style=\"text-align: right;\">\n",
              "      <th></th>\n",
              "      <th>Gender</th>\n",
              "      <th>Height</th>\n",
              "      <th>Weight</th>\n",
              "      <th>Index</th>\n",
              "    </tr>\n",
              "  </thead>\n",
              "  <tbody>\n",
              "    <tr>\n",
              "      <th>0</th>\n",
              "      <td>Male</td>\n",
              "      <td>174</td>\n",
              "      <td>96</td>\n",
              "      <td>4</td>\n",
              "    </tr>\n",
              "    <tr>\n",
              "      <th>1</th>\n",
              "      <td>Male</td>\n",
              "      <td>189</td>\n",
              "      <td>87</td>\n",
              "      <td>2</td>\n",
              "    </tr>\n",
              "    <tr>\n",
              "      <th>2</th>\n",
              "      <td>Female</td>\n",
              "      <td>185</td>\n",
              "      <td>110</td>\n",
              "      <td>4</td>\n",
              "    </tr>\n",
              "    <tr>\n",
              "      <th>3</th>\n",
              "      <td>Female</td>\n",
              "      <td>195</td>\n",
              "      <td>104</td>\n",
              "      <td>3</td>\n",
              "    </tr>\n",
              "    <tr>\n",
              "      <th>4</th>\n",
              "      <td>Male</td>\n",
              "      <td>149</td>\n",
              "      <td>61</td>\n",
              "      <td>3</td>\n",
              "    </tr>\n",
              "  </tbody>\n",
              "</table>\n",
              "</div>"
            ],
            "text/plain": [
              "   Gender  Height  Weight  Index\n",
              "0    Male     174      96      4\n",
              "1    Male     189      87      2\n",
              "2  Female     185     110      4\n",
              "3  Female     195     104      3\n",
              "4    Male     149      61      3"
            ]
          },
          "metadata": {
            "tags": []
          },
          "execution_count": 2
        }
      ]
    },
    {
      "metadata": {
        "id": "RrMbpcv64RR8",
        "colab_type": "text"
      },
      "cell_type": "markdown",
      "source": [
        "        0 - extremely weak\n",
        "        1 - weak\n",
        "        2 - normal\n",
        "        3 - overweight\n",
        "        4 - obese\n",
        "        5 - extremely obese"
      ]
    },
    {
      "metadata": {
        "id": "jJpjTsHrZjfY",
        "colab_type": "code",
        "outputId": "d0f07b96-2929-4ee1-d9e9-d867dfe8db5c",
        "colab": {
          "base_uri": "https://localhost:8080/",
          "height": 204
        }
      },
      "cell_type": "code",
      "source": [
        "data['Sex'] = data['Gender']\n",
        "data['Sex'].replace(['Female', 'Male'], [0, 1], inplace=True)\n",
        "\n",
        "data.head()"
      ],
      "execution_count": 0,
      "outputs": [
        {
          "output_type": "execute_result",
          "data": {
            "text/html": [
              "<div>\n",
              "<style scoped>\n",
              "    .dataframe tbody tr th:only-of-type {\n",
              "        vertical-align: middle;\n",
              "    }\n",
              "\n",
              "    .dataframe tbody tr th {\n",
              "        vertical-align: top;\n",
              "    }\n",
              "\n",
              "    .dataframe thead th {\n",
              "        text-align: right;\n",
              "    }\n",
              "</style>\n",
              "<table border=\"1\" class=\"dataframe\">\n",
              "  <thead>\n",
              "    <tr style=\"text-align: right;\">\n",
              "      <th></th>\n",
              "      <th>Gender</th>\n",
              "      <th>Height</th>\n",
              "      <th>Weight</th>\n",
              "      <th>Index</th>\n",
              "      <th>Sex</th>\n",
              "    </tr>\n",
              "  </thead>\n",
              "  <tbody>\n",
              "    <tr>\n",
              "      <th>0</th>\n",
              "      <td>Male</td>\n",
              "      <td>174</td>\n",
              "      <td>96</td>\n",
              "      <td>4</td>\n",
              "      <td>1</td>\n",
              "    </tr>\n",
              "    <tr>\n",
              "      <th>1</th>\n",
              "      <td>Male</td>\n",
              "      <td>189</td>\n",
              "      <td>87</td>\n",
              "      <td>2</td>\n",
              "      <td>1</td>\n",
              "    </tr>\n",
              "    <tr>\n",
              "      <th>2</th>\n",
              "      <td>Female</td>\n",
              "      <td>185</td>\n",
              "      <td>110</td>\n",
              "      <td>4</td>\n",
              "      <td>0</td>\n",
              "    </tr>\n",
              "    <tr>\n",
              "      <th>3</th>\n",
              "      <td>Female</td>\n",
              "      <td>195</td>\n",
              "      <td>104</td>\n",
              "      <td>3</td>\n",
              "      <td>0</td>\n",
              "    </tr>\n",
              "    <tr>\n",
              "      <th>4</th>\n",
              "      <td>Male</td>\n",
              "      <td>149</td>\n",
              "      <td>61</td>\n",
              "      <td>3</td>\n",
              "      <td>1</td>\n",
              "    </tr>\n",
              "  </tbody>\n",
              "</table>\n",
              "</div>"
            ],
            "text/plain": [
              "   Gender  Height  Weight  Index  Sex\n",
              "0    Male     174      96      4    1\n",
              "1    Male     189      87      2    1\n",
              "2  Female     185     110      4    0\n",
              "3  Female     195     104      3    0\n",
              "4    Male     149      61      3    1"
            ]
          },
          "metadata": {
            "tags": []
          },
          "execution_count": 3
        }
      ]
    },
    {
      "metadata": {
        "id": "CIEAySF4ZqGt",
        "colab_type": "code",
        "outputId": "370582c7-b275-4f71-9281-79b924a4538e",
        "colab": {
          "base_uri": "https://localhost:8080/",
          "height": 204
        }
      },
      "cell_type": "code",
      "source": [
        "height_m = 0.01 * data['Height'] \n",
        "data['BMI'] = data['Weight'] / height_m**2\n",
        "\n",
        "data.head()"
      ],
      "execution_count": 0,
      "outputs": [
        {
          "output_type": "execute_result",
          "data": {
            "text/html": [
              "<div>\n",
              "<style scoped>\n",
              "    .dataframe tbody tr th:only-of-type {\n",
              "        vertical-align: middle;\n",
              "    }\n",
              "\n",
              "    .dataframe tbody tr th {\n",
              "        vertical-align: top;\n",
              "    }\n",
              "\n",
              "    .dataframe thead th {\n",
              "        text-align: right;\n",
              "    }\n",
              "</style>\n",
              "<table border=\"1\" class=\"dataframe\">\n",
              "  <thead>\n",
              "    <tr style=\"text-align: right;\">\n",
              "      <th></th>\n",
              "      <th>Gender</th>\n",
              "      <th>Height</th>\n",
              "      <th>Weight</th>\n",
              "      <th>Index</th>\n",
              "      <th>Sex</th>\n",
              "      <th>BMI</th>\n",
              "    </tr>\n",
              "  </thead>\n",
              "  <tbody>\n",
              "    <tr>\n",
              "      <th>0</th>\n",
              "      <td>Male</td>\n",
              "      <td>174</td>\n",
              "      <td>96</td>\n",
              "      <td>4</td>\n",
              "      <td>1</td>\n",
              "      <td>31.708284</td>\n",
              "    </tr>\n",
              "    <tr>\n",
              "      <th>1</th>\n",
              "      <td>Male</td>\n",
              "      <td>189</td>\n",
              "      <td>87</td>\n",
              "      <td>2</td>\n",
              "      <td>1</td>\n",
              "      <td>24.355421</td>\n",
              "    </tr>\n",
              "    <tr>\n",
              "      <th>2</th>\n",
              "      <td>Female</td>\n",
              "      <td>185</td>\n",
              "      <td>110</td>\n",
              "      <td>4</td>\n",
              "      <td>0</td>\n",
              "      <td>32.140248</td>\n",
              "    </tr>\n",
              "    <tr>\n",
              "      <th>3</th>\n",
              "      <td>Female</td>\n",
              "      <td>195</td>\n",
              "      <td>104</td>\n",
              "      <td>3</td>\n",
              "      <td>0</td>\n",
              "      <td>27.350427</td>\n",
              "    </tr>\n",
              "    <tr>\n",
              "      <th>4</th>\n",
              "      <td>Male</td>\n",
              "      <td>149</td>\n",
              "      <td>61</td>\n",
              "      <td>3</td>\n",
              "      <td>1</td>\n",
              "      <td>27.476240</td>\n",
              "    </tr>\n",
              "  </tbody>\n",
              "</table>\n",
              "</div>"
            ],
            "text/plain": [
              "   Gender  Height  Weight  Index  Sex        BMI\n",
              "0    Male     174      96      4    1  31.708284\n",
              "1    Male     189      87      2    1  24.355421\n",
              "2  Female     185     110      4    0  32.140248\n",
              "3  Female     195     104      3    0  27.350427\n",
              "4    Male     149      61      3    1  27.476240"
            ]
          },
          "metadata": {
            "tags": []
          },
          "execution_count": 4
        }
      ]
    },
    {
      "metadata": {
        "id": "8V_AmLprZtpz",
        "colab_type": "code",
        "outputId": "805c5caa-f6c9-4c93-f878-09ccb43fa6a9",
        "colab": {
          "base_uri": "https://localhost:8080/",
          "height": 204
        }
      },
      "cell_type": "code",
      "source": [
        "def z_trans(data):\n",
        "  return (data - data.mean()) / data.std()\n",
        "\n",
        "data['H'] = z_trans(data['Height'])\n",
        "data['W'] = z_trans(data['Weight'])\n",
        "\n",
        "data.head()"
      ],
      "execution_count": 0,
      "outputs": [
        {
          "output_type": "execute_result",
          "data": {
            "text/html": [
              "<div>\n",
              "<style scoped>\n",
              "    .dataframe tbody tr th:only-of-type {\n",
              "        vertical-align: middle;\n",
              "    }\n",
              "\n",
              "    .dataframe tbody tr th {\n",
              "        vertical-align: top;\n",
              "    }\n",
              "\n",
              "    .dataframe thead th {\n",
              "        text-align: right;\n",
              "    }\n",
              "</style>\n",
              "<table border=\"1\" class=\"dataframe\">\n",
              "  <thead>\n",
              "    <tr style=\"text-align: right;\">\n",
              "      <th></th>\n",
              "      <th>Gender</th>\n",
              "      <th>Height</th>\n",
              "      <th>Weight</th>\n",
              "      <th>Index</th>\n",
              "      <th>Sex</th>\n",
              "      <th>BMI</th>\n",
              "      <th>H</th>\n",
              "      <th>W</th>\n",
              "    </tr>\n",
              "  </thead>\n",
              "  <tbody>\n",
              "    <tr>\n",
              "      <th>0</th>\n",
              "      <td>Male</td>\n",
              "      <td>174</td>\n",
              "      <td>96</td>\n",
              "      <td>4</td>\n",
              "      <td>1</td>\n",
              "      <td>31.708284</td>\n",
              "      <td>0.247691</td>\n",
              "      <td>-0.308808</td>\n",
              "    </tr>\n",
              "    <tr>\n",
              "      <th>1</th>\n",
              "      <td>Male</td>\n",
              "      <td>189</td>\n",
              "      <td>87</td>\n",
              "      <td>2</td>\n",
              "      <td>1</td>\n",
              "      <td>24.355421</td>\n",
              "      <td>1.163707</td>\n",
              "      <td>-0.586735</td>\n",
              "    </tr>\n",
              "    <tr>\n",
              "      <th>2</th>\n",
              "      <td>Female</td>\n",
              "      <td>185</td>\n",
              "      <td>110</td>\n",
              "      <td>4</td>\n",
              "      <td>0</td>\n",
              "      <td>32.140248</td>\n",
              "      <td>0.919436</td>\n",
              "      <td>0.123523</td>\n",
              "    </tr>\n",
              "    <tr>\n",
              "      <th>3</th>\n",
              "      <td>Female</td>\n",
              "      <td>195</td>\n",
              "      <td>104</td>\n",
              "      <td>3</td>\n",
              "      <td>0</td>\n",
              "      <td>27.350427</td>\n",
              "      <td>1.530113</td>\n",
              "      <td>-0.061762</td>\n",
              "    </tr>\n",
              "    <tr>\n",
              "      <th>4</th>\n",
              "      <td>Male</td>\n",
              "      <td>149</td>\n",
              "      <td>61</td>\n",
              "      <td>3</td>\n",
              "      <td>1</td>\n",
              "      <td>27.476240</td>\n",
              "      <td>-1.279003</td>\n",
              "      <td>-1.389635</td>\n",
              "    </tr>\n",
              "  </tbody>\n",
              "</table>\n",
              "</div>"
            ],
            "text/plain": [
              "   Gender  Height  Weight  Index  Sex        BMI         H         W\n",
              "0    Male     174      96      4    1  31.708284  0.247691 -0.308808\n",
              "1    Male     189      87      2    1  24.355421  1.163707 -0.586735\n",
              "2  Female     185     110      4    0  32.140248  0.919436  0.123523\n",
              "3  Female     195     104      3    0  27.350427  1.530113 -0.061762\n",
              "4    Male     149      61      3    1  27.476240 -1.279003 -1.389635"
            ]
          },
          "metadata": {
            "tags": []
          },
          "execution_count": 5
        }
      ]
    },
    {
      "metadata": {
        "id": "HYYDSDhgZxz_",
        "colab_type": "code",
        "colab": {}
      },
      "cell_type": "code",
      "source": [
        "X = data[['Sex', 'H', 'W']]\n",
        "y = data['Index']\n",
        "\n",
        "# using 20% of the data for our test set\n",
        "from sklearn.model_selection import train_test_split\n",
        "X_train, X_test, y_train, y_test = train_test_split(X, y, test_size = 0.2, random_state=0)"
      ],
      "execution_count": 0,
      "outputs": []
    },
    {
      "metadata": {
        "id": "pv2k_ol2Z3jv",
        "colab_type": "code",
        "outputId": "610a775d-88d3-4163-f426-e35e0cb461b4",
        "colab": {
          "base_uri": "https://localhost:8080/",
          "height": 204
        }
      },
      "cell_type": "code",
      "source": [
        "# X holds the data used to predict the labels y\n",
        "X_train.head()"
      ],
      "execution_count": 0,
      "outputs": [
        {
          "output_type": "execute_result",
          "data": {
            "text/html": [
              "<div>\n",
              "<style scoped>\n",
              "    .dataframe tbody tr th:only-of-type {\n",
              "        vertical-align: middle;\n",
              "    }\n",
              "\n",
              "    .dataframe tbody tr th {\n",
              "        vertical-align: top;\n",
              "    }\n",
              "\n",
              "    .dataframe thead th {\n",
              "        text-align: right;\n",
              "    }\n",
              "</style>\n",
              "<table border=\"1\" class=\"dataframe\">\n",
              "  <thead>\n",
              "    <tr style=\"text-align: right;\">\n",
              "      <th></th>\n",
              "      <th>Sex</th>\n",
              "      <th>H</th>\n",
              "      <th>W</th>\n",
              "    </tr>\n",
              "  </thead>\n",
              "  <tbody>\n",
              "    <tr>\n",
              "      <th>107</th>\n",
              "      <td>1</td>\n",
              "      <td>-0.668325</td>\n",
              "      <td>1.482277</td>\n",
              "    </tr>\n",
              "    <tr>\n",
              "      <th>336</th>\n",
              "      <td>0</td>\n",
              "      <td>-0.179783</td>\n",
              "      <td>1.451396</td>\n",
              "    </tr>\n",
              "    <tr>\n",
              "      <th>71</th>\n",
              "      <td>1</td>\n",
              "      <td>0.491962</td>\n",
              "      <td>0.339689</td>\n",
              "    </tr>\n",
              "    <tr>\n",
              "      <th>474</th>\n",
              "      <td>0</td>\n",
              "      <td>-0.179783</td>\n",
              "      <td>-0.833781</td>\n",
              "    </tr>\n",
              "    <tr>\n",
              "      <th>6</th>\n",
              "      <td>1</td>\n",
              "      <td>-1.401138</td>\n",
              "      <td>-0.432331</td>\n",
              "    </tr>\n",
              "  </tbody>\n",
              "</table>\n",
              "</div>"
            ],
            "text/plain": [
              "     Sex         H         W\n",
              "107    1 -0.668325  1.482277\n",
              "336    0 -0.179783  1.451396\n",
              "71     1  0.491962  0.339689\n",
              "474    0 -0.179783 -0.833781\n",
              "6      1 -1.401138 -0.432331"
            ]
          },
          "metadata": {
            "tags": []
          },
          "execution_count": 7
        }
      ]
    },
    {
      "metadata": {
        "id": "2rqzVur6Z5GE",
        "colab_type": "code",
        "outputId": "011618d3-79f7-4665-b01e-6904df90b2bb",
        "colab": {
          "base_uri": "https://localhost:8080/",
          "height": 119
        }
      },
      "cell_type": "code",
      "source": [
        "# corresponding labels\n",
        "y_train.head()"
      ],
      "execution_count": 0,
      "outputs": [
        {
          "output_type": "execute_result",
          "data": {
            "text/plain": [
              "107    5\n",
              "336    5\n",
              "71     4\n",
              "474    3\n",
              "6      5\n",
              "Name: Index, dtype: int64"
            ]
          },
          "metadata": {
            "tags": []
          },
          "execution_count": 8
        }
      ]
    },
    {
      "metadata": {
        "id": "wMmSPtu6Z8Jl",
        "colab_type": "code",
        "outputId": "d0fe0df1-ae91-4d15-bf76-b881290678b6",
        "colab": {
          "base_uri": "https://localhost:8080/",
          "height": 51
        }
      },
      "cell_type": "code",
      "source": [
        "from sklearn import linear_model\n",
        "\n",
        "lm = linear_model.LinearRegression()\n",
        "model = lm.fit(X_train, y_train)\n",
        "\n",
        "# coefficient of determination, R^2\n",
        "# the proportion of the variation in the data that was explained by linear model\n",
        "print('Training set R^2 =', lm.score(X_train, y_train))\n",
        "print('Test set R^2 =', lm.score(X_test, y_test))"
      ],
      "execution_count": 0,
      "outputs": [
        {
          "output_type": "stream",
          "text": [
            "Training set R^2 = 0.8278521846218956\n",
            "Test set R^2 = 0.816823952075908\n"
          ],
          "name": "stdout"
        }
      ]
    },
    {
      "metadata": {
        "id": "G9QG_vJZZ-7u",
        "colab_type": "code",
        "outputId": "39cb1293-2c43-4b60-a965-7cb6db10c8d1",
        "colab": {
          "base_uri": "https://localhost:8080/",
          "height": 51
        }
      },
      "cell_type": "code",
      "source": [
        "print('the coefficients =', lm.coef_)\n",
        "print('the intercept =', lm.intercept_)"
      ],
      "execution_count": 0,
      "outputs": [
        {
          "output_type": "stream",
          "text": [
            "the coefficients = [ 0.00208042 -0.5639624   1.09752865]\n",
            "the intercept = 3.7385774612255336\n"
          ],
          "name": "stdout"
        }
      ]
    },
    {
      "metadata": {
        "id": "__QUI6sraB8y",
        "colab_type": "code",
        "outputId": "98ae3eda-abd7-492d-c79e-5098fade4138",
        "colab": {
          "base_uri": "https://localhost:8080/",
          "height": 85
        }
      },
      "cell_type": "code",
      "source": [
        "X = data[['H', 'W']]\n",
        "y = data['Index']\n",
        "\n",
        "X_train, X_test, y_train, y_test = train_test_split(X, y, test_size = 0.2, random_state=0)\n",
        "\n",
        "lm = linear_model.LinearRegression()\n",
        "model = lm.fit(X_train, y_train)\n",
        "\n",
        "print('Training set R^2 =', lm.score(X_train, y_train))\n",
        "print('Test set R^2 =', lm.score(X_test, y_test))\n",
        "\n",
        "print('the coefficients =', lm.coef_)\n",
        "print('the intercept =', lm.intercept_)\n",
        "\n",
        "old_coef = lm.coef_\n",
        "old_int = lm.intercept_"
      ],
      "execution_count": 0,
      "outputs": [
        {
          "output_type": "stream",
          "text": [
            "Training set R^2 = 0.8278516070326984\n",
            "Test set R^2 = 0.8167131841611407\n",
            "the coefficients = [-0.5639695   1.09756578]\n",
            "the intercept = 3.739566020220715\n"
          ],
          "name": "stdout"
        }
      ]
    },
    {
      "metadata": {
        "id": "Iy56CWSRaE7r",
        "colab_type": "code",
        "outputId": "f4ea9101-e1b0-4904-f7e0-de19bce1e420",
        "colab": {
          "base_uri": "https://localhost:8080/",
          "height": 204
        }
      },
      "cell_type": "code",
      "source": [
        "data['zBMI'] = z_trans(data['BMI']);\n",
        "\n",
        "data.head()"
      ],
      "execution_count": 0,
      "outputs": [
        {
          "output_type": "execute_result",
          "data": {
            "text/html": [
              "<div>\n",
              "<style scoped>\n",
              "    .dataframe tbody tr th:only-of-type {\n",
              "        vertical-align: middle;\n",
              "    }\n",
              "\n",
              "    .dataframe tbody tr th {\n",
              "        vertical-align: top;\n",
              "    }\n",
              "\n",
              "    .dataframe thead th {\n",
              "        text-align: right;\n",
              "    }\n",
              "</style>\n",
              "<table border=\"1\" class=\"dataframe\">\n",
              "  <thead>\n",
              "    <tr style=\"text-align: right;\">\n",
              "      <th></th>\n",
              "      <th>Gender</th>\n",
              "      <th>Height</th>\n",
              "      <th>Weight</th>\n",
              "      <th>Index</th>\n",
              "      <th>Sex</th>\n",
              "      <th>BMI</th>\n",
              "      <th>H</th>\n",
              "      <th>W</th>\n",
              "      <th>zBMI</th>\n",
              "    </tr>\n",
              "  </thead>\n",
              "  <tbody>\n",
              "    <tr>\n",
              "      <th>0</th>\n",
              "      <td>Male</td>\n",
              "      <td>174</td>\n",
              "      <td>96</td>\n",
              "      <td>4</td>\n",
              "      <td>1</td>\n",
              "      <td>31.708284</td>\n",
              "      <td>0.247691</td>\n",
              "      <td>-0.308808</td>\n",
              "      <td>-0.433708</td>\n",
              "    </tr>\n",
              "    <tr>\n",
              "      <th>1</th>\n",
              "      <td>Male</td>\n",
              "      <td>189</td>\n",
              "      <td>87</td>\n",
              "      <td>2</td>\n",
              "      <td>1</td>\n",
              "      <td>24.355421</td>\n",
              "      <td>1.163707</td>\n",
              "      <td>-0.586735</td>\n",
              "      <td>-0.960205</td>\n",
              "    </tr>\n",
              "    <tr>\n",
              "      <th>2</th>\n",
              "      <td>Female</td>\n",
              "      <td>185</td>\n",
              "      <td>110</td>\n",
              "      <td>4</td>\n",
              "      <td>0</td>\n",
              "      <td>32.140248</td>\n",
              "      <td>0.919436</td>\n",
              "      <td>0.123523</td>\n",
              "      <td>-0.402777</td>\n",
              "    </tr>\n",
              "    <tr>\n",
              "      <th>3</th>\n",
              "      <td>Female</td>\n",
              "      <td>195</td>\n",
              "      <td>104</td>\n",
              "      <td>3</td>\n",
              "      <td>0</td>\n",
              "      <td>27.350427</td>\n",
              "      <td>1.530113</td>\n",
              "      <td>-0.061762</td>\n",
              "      <td>-0.745750</td>\n",
              "    </tr>\n",
              "    <tr>\n",
              "      <th>4</th>\n",
              "      <td>Male</td>\n",
              "      <td>149</td>\n",
              "      <td>61</td>\n",
              "      <td>3</td>\n",
              "      <td>1</td>\n",
              "      <td>27.476240</td>\n",
              "      <td>-1.279003</td>\n",
              "      <td>-1.389635</td>\n",
              "      <td>-0.736741</td>\n",
              "    </tr>\n",
              "  </tbody>\n",
              "</table>\n",
              "</div>"
            ],
            "text/plain": [
              "   Gender  Height  Weight  Index  Sex        BMI         H         W      zBMI\n",
              "0    Male     174      96      4    1  31.708284  0.247691 -0.308808 -0.433708\n",
              "1    Male     189      87      2    1  24.355421  1.163707 -0.586735 -0.960205\n",
              "2  Female     185     110      4    0  32.140248  0.919436  0.123523 -0.402777\n",
              "3  Female     195     104      3    0  27.350427  1.530113 -0.061762 -0.745750\n",
              "4    Male     149      61      3    1  27.476240 -1.279003 -1.389635 -0.736741"
            ]
          },
          "metadata": {
            "tags": []
          },
          "execution_count": 12
        }
      ]
    },
    {
      "metadata": {
        "id": "k2nwE8lpaHlK",
        "colab_type": "code",
        "outputId": "5b9067cf-4a2b-4db6-b186-37660bc7f2b4",
        "colab": {
          "base_uri": "https://localhost:8080/",
          "height": 204
        }
      },
      "cell_type": "code",
      "source": [
        "X = data[['H', 'W', 'zBMI']]\n",
        "y = data['Index']\n",
        "\n",
        "X.head()\n"
      ],
      "execution_count": 0,
      "outputs": [
        {
          "output_type": "execute_result",
          "data": {
            "text/html": [
              "<div>\n",
              "<style scoped>\n",
              "    .dataframe tbody tr th:only-of-type {\n",
              "        vertical-align: middle;\n",
              "    }\n",
              "\n",
              "    .dataframe tbody tr th {\n",
              "        vertical-align: top;\n",
              "    }\n",
              "\n",
              "    .dataframe thead th {\n",
              "        text-align: right;\n",
              "    }\n",
              "</style>\n",
              "<table border=\"1\" class=\"dataframe\">\n",
              "  <thead>\n",
              "    <tr style=\"text-align: right;\">\n",
              "      <th></th>\n",
              "      <th>H</th>\n",
              "      <th>W</th>\n",
              "      <th>zBMI</th>\n",
              "    </tr>\n",
              "  </thead>\n",
              "  <tbody>\n",
              "    <tr>\n",
              "      <th>0</th>\n",
              "      <td>0.247691</td>\n",
              "      <td>-0.308808</td>\n",
              "      <td>-0.433708</td>\n",
              "    </tr>\n",
              "    <tr>\n",
              "      <th>1</th>\n",
              "      <td>1.163707</td>\n",
              "      <td>-0.586735</td>\n",
              "      <td>-0.960205</td>\n",
              "    </tr>\n",
              "    <tr>\n",
              "      <th>2</th>\n",
              "      <td>0.919436</td>\n",
              "      <td>0.123523</td>\n",
              "      <td>-0.402777</td>\n",
              "    </tr>\n",
              "    <tr>\n",
              "      <th>3</th>\n",
              "      <td>1.530113</td>\n",
              "      <td>-0.061762</td>\n",
              "      <td>-0.745750</td>\n",
              "    </tr>\n",
              "    <tr>\n",
              "      <th>4</th>\n",
              "      <td>-1.279003</td>\n",
              "      <td>-1.389635</td>\n",
              "      <td>-0.736741</td>\n",
              "    </tr>\n",
              "  </tbody>\n",
              "</table>\n",
              "</div>"
            ],
            "text/plain": [
              "          H         W      zBMI\n",
              "0  0.247691 -0.308808 -0.433708\n",
              "1  1.163707 -0.586735 -0.960205\n",
              "2  0.919436  0.123523 -0.402777\n",
              "3  1.530113 -0.061762 -0.745750\n",
              "4 -1.279003 -1.389635 -0.736741"
            ]
          },
          "metadata": {
            "tags": []
          },
          "execution_count": 13
        }
      ]
    },
    {
      "metadata": {
        "id": "QRJlxmA2tv4h",
        "colab_type": "code",
        "outputId": "abe262d8-5059-4677-b4fb-116efea8f19b",
        "colab": {
          "base_uri": "https://localhost:8080/",
          "height": 34
        }
      },
      "cell_type": "code",
      "source": [
        "X_train, X_test, y_train, y_test = train_test_split(X, y, test_size = 0.2, random_state=0)\n",
        "\n",
        "lm = linear_model.LinearRegression()\n",
        "model = lm.fit(X_train, y_train)\n",
        "\n",
        "print('Training set R^2 =', lm.score(X_train, y_train))"
      ],
      "execution_count": 0,
      "outputs": [
        {
          "output_type": "stream",
          "text": [
            "Training set R^2 = 0.8681347833806468\n"
          ],
          "name": "stdout"
        }
      ]
    },
    {
      "metadata": {
        "id": "0CnqkZG_aLcl",
        "colab_type": "code",
        "outputId": "3111aa41-abcc-4117-aedb-be7557278d5d",
        "colab": {
          "base_uri": "https://localhost:8080/",
          "height": 68
        }
      },
      "cell_type": "code",
      "source": [
        "print('Test set R^2 =', lm.score(X_test, y_test))\n",
        "\n",
        "print('the coefficients =', lm.coef_)\n",
        "print('the intercept =', lm.intercept_)"
      ],
      "execution_count": 0,
      "outputs": [
        {
          "output_type": "stream",
          "text": [
            "Test set R^2 = 0.8622364242913599\n",
            "the coefficients = [-1.36163897  2.34525421 -1.4924088 ]\n",
            "the intercept = 3.743046281451956\n"
          ],
          "name": "stdout"
        }
      ]
    },
    {
      "metadata": {
        "id": "IjQa-tGwGBd_",
        "colab_type": "code",
        "outputId": "496ef26c-5ad7-4eac-aafc-1aaee6f90a0b",
        "colab": {
          "base_uri": "https://localhost:8080/",
          "height": 85
        }
      },
      "cell_type": "code",
      "source": [
        "X = data[['H', 'W', 'zBMI']]\n",
        "y = data['Index']\n",
        "\n",
        "X.head()\n",
        "\n",
        "X_train, X_test, y_train, y_test = train_test_split(X, y, test_size = 0.2, random_state=0)\n",
        "\n",
        "lm = linear_model.LinearRegression()\n",
        "model = lm.fit(X_train, y_train)\n",
        "\n",
        "print('Training set R^2 =', lm.score(X_train, y_train))\n",
        "print('Test set R^2 =', lm.score(X_test, y_test))\n",
        "\n",
        "print('the coefficients =', lm.coef_)\n",
        "print('the intercept =', lm.intercept_)"
      ],
      "execution_count": 0,
      "outputs": [
        {
          "output_type": "stream",
          "text": [
            "Training set R^2 = 0.8681347833806468\n",
            "Test set R^2 = 0.8622364242913599\n",
            "the coefficients = [-1.36163897  2.34525421 -1.4924088 ]\n",
            "the intercept = 3.743046281451956\n"
          ],
          "name": "stdout"
        }
      ]
    },
    {
      "metadata": {
        "id": "qE-wCOsLq_7l",
        "colab_type": "text"
      },
      "cell_type": "markdown",
      "source": [
        "\n",
        "$$ L(h,w,b) = \\frac{1}{2n}\\sum_{i=1}^n \\left( y_i-(h h_i +w w_i+ b) \\right)^2$$\n",
        "\n",
        "$$  \\quad\\quad= \\frac{1}{2n}\\sum_{i=1}^n \\left( y_i- h h_i - w w_i - b \\right)^2$$\n",
        "\n",
        "\\\n",
        "\n",
        "$$\\nabla L(h,w,b)=\n",
        "-\\frac{1}{n}\n",
        "\\begin{bmatrix}\n",
        "\\sum_{i=1}^n (y_i - hh_i-ww_i-b)\\cdot h_i  \\\\\n",
        "\\sum_{i=1}^n (y_i - hh_i-ww_i-b)\\cdot w_i  \\\\\n",
        "\\sum_{i=1}^n (y_i - hh_i-ww_i-b)\n",
        "\\end{bmatrix}$$"
      ]
    },
    {
      "metadata": {
        "id": "i_5dBd-baOYB",
        "colab_type": "code",
        "colab": {}
      },
      "cell_type": "code",
      "source": [
        "# Mean Squared Error\n",
        "def gradient(y, H, W, h, w, b):\n",
        "  loss = y - h*H - w*W - b\n",
        "  h = loss*H\n",
        "  w = loss*W\n",
        "  b = loss\n",
        "  return h, w, b\n",
        "\n",
        "\n",
        "def delL(y, H, W, h, w, b):\n",
        "  data_size = 500\n",
        "  sum_h, sum_w, sum_b = 0, 0, 0\n",
        "  \n",
        "  for i in range(data_size):\n",
        "    h1, w1, b1 = gradient(y[i], H[i], W[i], h, w, b)\n",
        "    sum_h += h1\n",
        "    sum_w += w1\n",
        "    sum_b += b1\n",
        "  h = -1*sum_h / data_size\n",
        "  w = -1*sum_w / data_size\n",
        "  b = -1*sum_b / data_size\n",
        "  return h, w, b"
      ],
      "execution_count": 0,
      "outputs": []
    },
    {
      "metadata": {
        "id": "36z4RIOvaQx1",
        "colab_type": "code",
        "outputId": "18fa4e40-c13b-4e1a-d2d8-4766a1b3535e",
        "colab": {
          "base_uri": "https://localhost:8080/",
          "height": 119
        }
      },
      "cell_type": "code",
      "source": [
        "y = np.array(data['Index'])\n",
        "H = np.array(data['H'])\n",
        "W = np.array(data['W'])\n",
        "\n",
        "alpha = .05   # the learning rate\n",
        "num_iterates = 200\n",
        "\n",
        "# We'll start with the following initial \"guess\".\n",
        "h, w, b = .5, .5, 3\n",
        "print('(h,w,b) =', (h,w,b))\n",
        "\n",
        "for i in range(num_iterates):\n",
        "    new_h, new_w, new_b = delL(y, H, W, h, w, b)\n",
        "    h = h - alpha*new_h\n",
        "    w = w - alpha*new_w\n",
        "    b = b - alpha*new_b\n",
        "\n",
        "print('(h,w,b) =', (h,w,b))\n",
        "\n",
        "\n",
        "X = data[['H', 'W']]\n",
        "y_gd = data['H']*h + data['W']*w + b\n",
        "y_true = data['Index']\n",
        "\n",
        "from sklearn.metrics import r2_score\n",
        "print('Gradient Descent R^2 =', r2_score(y_true, y_gd)) \n",
        "print()\n",
        "print(\"previous model (h,w,b) = (\", old_coef[0], old_coef[1], old_int, ')')\n",
        "y_gd = data['H']*old_coef[0] + data['W']*old_coef[1] + old_int\n",
        "print('accuracy using previous weights =', r2_score(y_true, y_gd)) "
      ],
      "execution_count": 0,
      "outputs": [
        {
          "output_type": "stream",
          "text": [
            "(h,w,b) = (0.5, 0.5, 3)\n",
            "(h,w,b) = (-0.5725821858068135, 1.0904677159265765, 3.747973780605646)\n",
            "Gradient Descent R^2 = 0.825906764508032\n",
            "\n",
            "previous model (h,w,b) = ( -0.5639694978685548 1.0975657806668377 3.739566020220715 )\n",
            "accuracy using previous weights = 0.825799884390185\n"
          ],
          "name": "stdout"
        }
      ]
    },
    {
      "metadata": {
        "id": "GxBwImKftUJ2",
        "colab_type": "code",
        "colab": {}
      },
      "cell_type": "code",
      "source": [
        "# 3 classes\n",
        "def gradient_3(y, H, W, Z, h, w, z, b):\n",
        "  loss = y - h*H - w*W - z*Z - b\n",
        "  h = loss*H\n",
        "  w = loss*W\n",
        "  z = loss*Z\n",
        "  b = loss\n",
        "  return h, w, z, b\n",
        "\n",
        "\n",
        "def delL_3(y, H, W, Z, h, w, z, b):\n",
        "  data_size = 500\n",
        "  sum_h, sum_w, sum_z, sum_b = 0, 0, 0, 0\n",
        "  \n",
        "  for i in range(data_size):\n",
        "    h1, w1, z1, b1 = gradient_3(y[i], H[i], W[i], Z[i],  h, w, z, b)\n",
        "    sum_h += h1\n",
        "    sum_w += w1\n",
        "    sum_z += z1\n",
        "    sum_b += b1\n",
        "  h = -1*sum_h / data_size\n",
        "  w = -1*sum_w / data_size\n",
        "  z = -1*sum_z / data_size\n",
        "  b = -1*sum_b / data_size\n",
        "  return h, w, z, b"
      ],
      "execution_count": 0,
      "outputs": []
    },
    {
      "metadata": {
        "id": "m_wFBco7td3T",
        "colab_type": "code",
        "outputId": "edbd278c-676f-418b-9917-455c247e218a",
        "colab": {
          "base_uri": "https://localhost:8080/",
          "height": 119
        }
      },
      "cell_type": "code",
      "source": [
        "y = np.array(data['Index'])\n",
        "H = np.array(data['H'])\n",
        "W = np.array(data['W'])\n",
        "Z = np.array(data['zBMI'])\n",
        "\n",
        "data['zBMI'].head()"
      ],
      "execution_count": 0,
      "outputs": [
        {
          "output_type": "execute_result",
          "data": {
            "text/plain": [
              "0   -0.433708\n",
              "1   -0.960205\n",
              "2   -0.402777\n",
              "3   -0.745750\n",
              "4   -0.736741\n",
              "Name: zBMI, dtype: float64"
            ]
          },
          "metadata": {
            "tags": []
          },
          "execution_count": 20
        }
      ]
    },
    {
      "metadata": {
        "id": "bH5GOrYht3Zz",
        "colab_type": "code",
        "outputId": "2ad612a9-4547-42f9-d48c-1a1184eeec2a",
        "colab": {
          "base_uri": "https://localhost:8080/",
          "height": 119
        }
      },
      "cell_type": "code",
      "source": [
        "alpha = .05   # the learning rate\n",
        "num_iterates = 5000\n",
        "\n",
        "# We'll start with the following initial \"guess\".\n",
        "h, w, z, b = 2.5, 2.5, 2.5, 3\n",
        "print('(h,w,z,b) =', (h,w,z,b))\n",
        "\n",
        "for i in range(num_iterates):\n",
        "    new_h, new_w, new_z, new_b = delL_3(y, H, W, Z, h, w, z, b)\n",
        "    h = h - alpha*new_h\n",
        "    w = w - alpha*new_w\n",
        "    z = z - alpha*new_z\n",
        "    b = b - alpha*new_b\n",
        "\n",
        "print('(h,w,z,b) =', (h,w,z,b))\n",
        "\n",
        "\n",
        "X = data[['H', 'W', 'zBMI']]\n",
        "y_gd = data['H']*h + data['W']*w + data['zBMI']*z + b\n",
        "y_true = data['Index']\n",
        "\n",
        "print('Gradient Descent R^2 =', r2_score(y_true, y_gd)) \n",
        "print()\n",
        "print(\"previous model (h,w,z,b) = (\", lm.coef_[0], lm.coef_[1], lm.coef_[2], lm.intercept_, ')')\n",
        "y_gd = data['H']*lm.coef_[0] + data['W']*lm.coef_[1] + data['zBMI']*lm.coef_[2] + lm.intercept_\n",
        "print('accuracy using previous weights =', r2_score(y_true, y_gd)) "
      ],
      "execution_count": 0,
      "outputs": [
        {
          "output_type": "stream",
          "text": [
            "(h,w,z,b) = (2.5, 2.5, 2.5, 3)\n",
            "(h,w,z,b) = (-1.3586479113309295, 2.3119164099619622, -1.4773036134518558, 3.7479999999999967)\n",
            "Gradient Descent R^2 = 0.867279198121476\n",
            "\n",
            "previous model (h,w,z,b) = ( -1.3616389746553021 2.3452542091336634 -1.4924087956114167 3.743046281451956 )\n",
            "accuracy using previous weights = 0.8670509800048822\n"
          ],
          "name": "stdout"
        }
      ]
    }
  ]
}